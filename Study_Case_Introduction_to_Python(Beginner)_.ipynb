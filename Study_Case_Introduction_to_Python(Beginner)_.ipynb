{
  "nbformat": 4,
  "nbformat_minor": 0,
  "metadata": {
    "colab": {
      "provenance": [],
      "authorship_tag": "ABX9TyN9OfQvGxtFis1clbvxRjeD",
      "include_colab_link": true
    },
    "kernelspec": {
      "name": "python3",
      "display_name": "Python 3"
    },
    "language_info": {
      "name": "python"
    }
  },
  "cells": [
    {
      "cell_type": "markdown",
      "metadata": {
        "id": "view-in-github",
        "colab_type": "text"
      },
      "source": [
        "<a href=\"https://colab.research.google.com/github/descaharefa/Introduction-to-Python-Beginner-/blob/main/Study_Case_Introduction_to_Python(Beginner)_.ipynb\" target=\"_parent\"><img src=\"https://colab.research.google.com/assets/colab-badge.svg\" alt=\"Open In Colab\"/></a>"
      ]
    },
    {
      "cell_type": "markdown",
      "metadata": {
        "heading_collapsed": true,
        "id": "IQZPHNVGE0jj"
      },
      "source": [
        "\n",
        "\n",
        "# Study Case Introduction to Python"
      ]
    },
    {
      "cell_type": "markdown",
      "metadata": {
        "hidden": true,
        "id": "bQ7VJlKEE0jo"
      },
      "source": [
        "- Nama : Desca winta Harefa\n"
      ]
    },
    {
      "cell_type": "code",
      "metadata": {
        "ExecuteTime": {
          "end_time": "2020-11-12T13:26:22.209983Z",
          "start_time": "2020-11-12T13:26:21.360470Z"
        },
        "hidden": true,
        "id": "4g2oLkevE0jo"
      },
      "source": [
        "import numpy as np"
      ],
      "execution_count": null,
      "outputs": []
    },
    {
      "cell_type": "markdown",
      "metadata": {
        "id": "cgd-tTOjE0jr"
      },
      "source": [
        "# Normal"
      ]
    },
    {
      "cell_type": "markdown",
      "metadata": {
        "heading_collapsed": true,
        "id": "ed8OiWGeE0jr"
      },
      "source": [
        "## 1. Operasi Variabel\n",
        "\n",
        "> Misal kita memiliki toko sepatu. Modal membeli 1 kodi sepatu adalah Rp 1.000.000. Setiap sepatu dijual seharga Rp 80.000. Buatlah variabel modal, kuantitas, dan harga_jual sesuai informasi di atas. Hitung profit yang didapatkan jika semua sepatu berhasil terjual, dan masukkan ke variabel profit.\n",
        "\n",
        "Saran langkah-langkah pengerjaan\n",
        "1. Convert terlebih dahulu kodi dalam jumlah barang (1 kodi = xyz buah sepatu)\n",
        "2. Gunakan operasi matematika sederhana untuk menghitung profit menggunakan tiga buah variabel yang sudah ditentukan"
      ]
    },
    {
      "cell_type": "code",
      "metadata": {
        "ExecuteTime": {
          "end_time": "2021-10-23T10:20:16.843127Z",
          "start_time": "2021-10-23T10:20:16.835236Z"
        },
        "hidden": true,
        "scrolled": true,
        "id": "ThOB9tEME0js"
      },
      "source": [
        "# Modal membeli 1 kodi sepatu\n",
        "modal_per_kodi = 1000000  # dalam Rupiah\n",
        "\n",
        "# Convert 1 kodi sepatu ke dalam jumlah sepatu\n",
        "sepatu_per_kodi = 12  # 1 kodi = 12 sepatu\n",
        "\n",
        "# Harga jual per sepatu\n",
        "harga_jual_per_sepatu = 80000  # dalam Rupiah\n",
        "\n",
        "# Menghitung profit jika semua sepatu terjual\n",
        "modal = modal_per_kodi / sepatu_per_kodi  # Modal per sepatu\n",
        "profit = harga_jual_per_sepatu - modal # Menghitung profit per sepatu\n",
        "profit1 = profit * 12  # Menghitung semua sepatu, ubah dalam 1 kodi\n",
        "profit = round(profit1)"
      ],
      "execution_count": null,
      "outputs": []
    },
    {
      "cell_type": "markdown",
      "metadata": {
        "hidden": true,
        "id": "8GaDbS89E0js"
      },
      "source": [
        "Jadi, dari profit di atas, dapat disimpulkan bahwa profit yang didapatkan jika semua sepatu berhasil terjual ialah -Rp. 40.000. Hasil negatif menunjukkan bahwa sepatu dijual dengan harga lebih rendah daripada modal, yang berarti semua sepatu yang dijual dengan harga Rp 80.000 per sepatu, maka akan mengalami kerugian sebesar Rp. 40.000 (kodi)."
      ]
    },
    {
      "cell_type": "markdown",
      "metadata": {
        "id": "5oTZCAI4E0ju"
      },
      "source": [
        "## 2. Package Python dan Dictionary\n",
        "\n",
        "> Kita akan coba mengakses data scientific article dari PLOS corpus\n",
        "    Menggunakan API request dengan kode berikut :\n",
        "```\n",
        "import requests\n",
        "response = requests.get('http://api.plos.org/search?q=title:\"Drosophila\" AND body:\"RNA\"&fl=id,abstract')\n",
        "```\n",
        "**perhatikan tanda kutipnya tidak salah ketika meng-copy ke dalam python\n",
        "\n",
        "Pertanyaannya :\n",
        "Convert response.content dari request tersebut dari JSON Format ke dalam Dictionary, dan print-kan key di dalamnya apa saja\n",
        "\n",
        "Saran langkah-langkah pengerjaan\n",
        "1. Ikuti code dari soal, kemudian ekstrak value dari variable response menggunakan dot (.) content menjadi sebuah variabel baru (dictionary)\n",
        "2. Gunakan library json, convert hasil content menggunakan json.loads\n",
        "3. Print keys dari dictionary tersebut\n"
      ]
    },
    {
      "cell_type": "code",
      "source": [
        "import requests\n",
        "response = requests.get('http://api.plos.org/search?q=title:\"Drosophila\" AND body:\"RNA\"&fl=id,abstract')"
      ],
      "metadata": {
        "id": "RY1kdZAUE0ju"
      },
      "execution_count": null,
      "outputs": []
    },
    {
      "cell_type": "code",
      "source": [
        "import json\n",
        "\n",
        "# Mengonversi response.content menjadi dictionary\n",
        "data = json.loads(response.content)"
      ],
      "metadata": {
        "id": "rp1C1Fsd9JHH"
      },
      "execution_count": null,
      "outputs": []
    },
    {
      "cell_type": "code",
      "source": [
        "# Mencetak keys dalam dictionary\n",
        "print(data.keys())"
      ],
      "metadata": {
        "id": "TqtK9NV79L6C",
        "outputId": "6611c3a3-e7e0-49f5-aa9a-4d8b23be368a",
        "colab": {
          "base_uri": "https://localhost:8080/"
        }
      },
      "execution_count": null,
      "outputs": [
        {
          "output_type": "stream",
          "name": "stdout",
          "text": [
            "dict_keys(['response'])\n"
          ]
        }
      ]
    },
    {
      "cell_type": "markdown",
      "metadata": {
        "id": "rvQnd_NgE0jv"
      },
      "source": [
        "Jadi, dari url link di atas, kami menyimpulkan bahwa memiliki keys dalam dictionary ialah response"
      ]
    },
    {
      "cell_type": "markdown",
      "metadata": {
        "id": "wWstgpwIPDwR"
      },
      "source": [
        "# Intermediate"
      ]
    },
    {
      "cell_type": "markdown",
      "metadata": {
        "id": "AI0lJNgDE0jv"
      },
      "source": [
        "## 3. Operasi dalam List\n",
        "\n",
        "> Buatlah list dengan 10 nama kota di indonesia, kemudian:\n",
        "1. Urutkan nama kota di dalam list berdasarkan abjad (a)\n",
        "2. Ambil 4 kota pertama dari list tersebut (yang telah diurutkan) (b)\n",
        "3. Ambil 3 kota terakhir dari list tersebut (yang telah diurutkan) (c)\n",
        "\n",
        "Saran langkah-langkah pengerjaan\n",
        "1. Tidak ada ketentuan nama kota (misal berdasarkan provinsi X atau pulau Y), dibebaskan untuk memilih. Buat nama-nama kota tersebut dalam sebuah list.\n",
        "2. Gunakan fungsi sorted(X) untuk mengurutkan secara kecil-ke-besar (sesuai abjad), dimana X adalah contoh variabel list pada langkah (a)\n",
        "3. Gunakan hasil poin (a), urutkan nama kota di dalam list berdasarkan abjad, untuk mengerjakan poin (b) dan (c)."
      ]
    },
    {
      "cell_type": "code",
      "metadata": {
        "ExecuteTime": {
          "end_time": "2021-10-23T10:20:47.306584Z",
          "start_time": "2021-10-23T10:20:47.299827Z"
        },
        "scrolled": true,
        "id": "piGxWfIAE0jw"
      },
      "source": [
        "nama_kota = [\"Jakarta\", \"Surabaya\", \"Bandung\", \"Medan\", \"Semarang\", \"Makassar\", \"Palembang\", \"Bogor\", \"Yogyakarta\", \"Malang\"] # Membuat list dengan 10 nama kota di Indonesia"
      ],
      "execution_count": null,
      "outputs": []
    },
    {
      "cell_type": "code",
      "source": [
        "nama_kota.sort() # Urutkan nama kota dalam list berdasarkan abjad"
      ],
      "metadata": {
        "id": "OIZ3DAf6-Awa"
      },
      "execution_count": null,
      "outputs": []
    },
    {
      "cell_type": "code",
      "source": [
        "empat_kota_pertama = nama_kota[:4] # Mengambil 4 kota pertama dari list yang telah diurutkan"
      ],
      "metadata": {
        "id": "Ofg0p8p--WhD"
      },
      "execution_count": null,
      "outputs": []
    },
    {
      "cell_type": "code",
      "source": [
        "tiga_kota_terakhir = nama_kota[-3:] # Mengambil 3 kota terakhir dari list yang telah diurutkan"
      ],
      "metadata": {
        "id": "96rjI9Sp-m4e"
      },
      "execution_count": null,
      "outputs": []
    },
    {
      "cell_type": "code",
      "source": [
        "# Mencetak hasilnya\n",
        "print(\"Nama kota yang telah diurutkan:\")\n",
        "print(nama_kota)\n",
        "print(\"\\nEmpat kota pertama:\")\n",
        "print(empat_kota_pertama)\n",
        "print(\"\\nTiga kota terakhir:\")\n",
        "print(tiga_kota_terakhir)"
      ],
      "metadata": {
        "id": "yI_0razX-tTd",
        "outputId": "671b98cb-268b-4482-be37-dc15e019f42c",
        "colab": {
          "base_uri": "https://localhost:8080/"
        }
      },
      "execution_count": null,
      "outputs": [
        {
          "output_type": "stream",
          "name": "stdout",
          "text": [
            "Nama kota yang telah diurutkan:\n",
            "['Bandung', 'Bogor', 'Jakarta', 'Makassar', 'Malang', 'Medan', 'Palembang', 'Semarang', 'Surabaya', 'Yogyakarta']\n",
            "\n",
            "Empat kota pertama:\n",
            "['Bandung', 'Bogor', 'Jakarta', 'Makassar']\n",
            "\n",
            "Tiga kota terakhir:\n",
            "['Semarang', 'Surabaya', 'Yogyakarta']\n"
          ]
        }
      ]
    },
    {
      "cell_type": "markdown",
      "metadata": {
        "id": "FpbGs5EaE0jw"
      },
      "source": [
        "Jadi, dari operasi list di atas, dapat disimpulkan bahwa dari 10 list nama - nama kota di Indonesia berikut ini ('Jakarta', 'Surabaya', 'Bandung', 'Medan', 'Semarang', 'Makassar', 'Palembang', 'Bogor', 'Yogyakarta', 'Malang') akan diurutkan terlebih dahulu. Kemudian list nama kota yang telah diurutkan akan menghasilkan seperti berikut ini ('Bandung', 'Bogor', 'Jakarta', 'Makassar', 'Malang', 'Medan', 'Palembang', 'Semarang', 'Surabaya', 'Yogyakarta'), setelah itu akan di ambil 4 kota pertama yang telah diurutkan yaitu ('Bandung', 'Bogor', 'Jakarta', 'Makassar') dan 3 kota terakhir yaitu yang telah diurutkan yaitu ('Semarang', 'Surabaya', 'Yogyakarta')."
      ]
    },
    {
      "cell_type": "markdown",
      "metadata": {
        "id": "6nanVjCCE0jx"
      },
      "source": [
        "## 4. Function dalam List\n",
        "\n",
        "> Team sales memiliki list total transaksi dari 10 merchant pada bulan Juni 2020, yaitu:\n",
        "```\n",
        "total_transaksi = [ 19, 35, 23, 25, 10, 15, 33, 45, 21, 30 ]\n",
        "```\n",
        "1. Trx minimum\n",
        "2. Rata-rata\n",
        "3. Trx maksimal\n",
        "\n",
        "Saran langkah-langkah pengerjaan\n",
        "1. Copy variabel total_transaksi yang ada di soal ke notebook kita (atau ketik ulang boleh)\n",
        "2. Kemudian, hitung menggunakan function operasi dalam list yang telah dipelajari di kelas pada topik list. Print hasilnya setiap poin (a), (b), dan (c)"
      ]
    },
    {
      "cell_type": "code",
      "metadata": {
        "ExecuteTime": {
          "end_time": "2021-10-23T10:20:52.903045Z",
          "start_time": "2021-10-23T10:20:52.894900Z"
        },
        "scrolled": true,
        "id": "HxvjrB2RE0jx",
        "outputId": "745731c1-85e0-4910-8ec6-d0172541a46b",
        "colab": {
          "base_uri": "https://localhost:8080/"
        }
      },
      "source": [
        "# List total transaksi dari10 merchant pada bulan Juni 2020\n",
        "total_transaksi = [19, 35, 23, 25, 10, 15, 33, 45, 21, 30]\n",
        "\n",
        "# Hitung nilai transaksi minimum\n",
        "trx_minimum = min(total_transaksi)\n",
        "print(\"Transaksi Minimum:\", trx_minimum)\n",
        "\n",
        "# Hitung rata-rata nilai transaksi\n",
        "rata_rata = sum(total_transaksi) / len(total_transaksi)\n",
        "print(\"Rata-rata Transaksi:\", rata_rata)\n",
        "\n",
        "# Hitung nilai transaksi maksimum\n",
        "trx_maksimum = max(total_transaksi)\n",
        "print(\"Transaksi Maksimum:\", trx_maksimum)"
      ],
      "execution_count": null,
      "outputs": [
        {
          "output_type": "stream",
          "name": "stdout",
          "text": [
            "Transaksi Minimum: 10\n",
            "Rata-rata Transaksi: 25.6\n",
            "Transaksi Maksimum: 45\n"
          ]
        }
      ]
    },
    {
      "cell_type": "markdown",
      "metadata": {
        "id": "UgHXbAOqE0jx"
      },
      "source": [
        "Jadi, dari hasil operasi list di atas, dapat disimpulkan bahwa nilai minimal, max, rata-rata pada data total transaksi pada bulan Juni 2020 diatas ialah nilai minimal yaitu 10, nilai rata - rata 25,6 dan nilai maximum yaitu 45."
      ]
    },
    {
      "cell_type": "markdown",
      "metadata": {
        "id": "f4EkwISgE0jx"
      },
      "source": [
        "# Advanced"
      ]
    },
    {
      "cell_type": "markdown",
      "metadata": {
        "id": "fmaX-pu5E0jy"
      },
      "source": [
        "## 5. NumPy Array\n",
        "\n",
        "> Buatlah array dari 5 bilangan ganjil pertama (dimulai dari 1), Kemudian lakukan perintah berikut :\n",
        "1. Kali-kan array tersebut dengan 10\n",
        "2. Bagi-kan array (hasil dari bagian a) dengan 3\n",
        "3. Kali-kan array (hasil dari bagian b) dengan array baru :\n",
        "`[-45, 43, 3, 56, 5]`\n",
        "4. Carilah pada index ke-berapa nilai tertinggi dan terendah dari array (hasil dari bagian c)\n",
        "\n",
        "Saran langkah-langkah pengerjaan\n",
        "1. HATI-HATI dalam pengerjaan, karena apabila poin sebelumnya salah, maka selanjutnya akan kebawa salah (misal (b) salah, maka poin (c) sampai (d) akan salah)\n",
        "2. Untuk array 5 bilangan ganjil pertama boleh manual boleh menggunakan fungsi, dimulai dari 1\n",
        "3. Ikuti perintah soal, gunakan numpy array, jangan list. Sesuaikan dengan permintaan soal pada setiap butir.\n",
        "\n"
      ]
    },
    {
      "cell_type": "code",
      "metadata": {
        "ExecuteTime": {
          "end_time": "2021-10-23T10:20:59.988806Z",
          "start_time": "2021-10-23T10:20:59.980744Z"
        },
        "scrolled": true,
        "id": "VTTOjU8wE0jy"
      },
      "source": [
        "import numpy as np"
      ],
      "execution_count": null,
      "outputs": []
    },
    {
      "cell_type": "code",
      "source": [
        "array_awal = np.array([1, 3, 5, 7, 9]) # Buat array dengan 5 bilangan ganjil pertama, dimulai dari 1"
      ],
      "metadata": {
        "id": "fMzwq0VzESLS"
      },
      "execution_count": null,
      "outputs": []
    },
    {
      "cell_type": "code",
      "source": [
        "array_kali = array_awal * 10 # Kali-kan array tersebut dengan 10\n",
        "print(array_kali)"
      ],
      "metadata": {
        "id": "Cfj1pnLCEkTN",
        "outputId": "b622c4cf-cc23-4531-92d5-feea69f4409f",
        "colab": {
          "base_uri": "https://localhost:8080/"
        }
      },
      "execution_count": null,
      "outputs": [
        {
          "output_type": "stream",
          "name": "stdout",
          "text": [
            "[10 30 50 70 90]\n"
          ]
        }
      ]
    },
    {
      "cell_type": "code",
      "source": [
        "array_bagi = array_kali / 3 # Bagi-kan array hasil dari langkah sebelumnya dengan 3\n",
        "print(array_bagi)"
      ],
      "metadata": {
        "id": "71tKMXhwEpvb",
        "outputId": "049c81b0-5236-4413-ea52-e38eebbf8420",
        "colab": {
          "base_uri": "https://localhost:8080/"
        }
      },
      "execution_count": null,
      "outputs": [
        {
          "output_type": "stream",
          "name": "stdout",
          "text": [
            "[ 3.33333333 10.         16.66666667 23.33333333 30.        ]\n"
          ]
        }
      ]
    },
    {
      "cell_type": "code",
      "source": [
        "array_baru = np.array([-45, 43, 3, 56, 5]) # Buat array baru: [-45, 43, 3, 56, 5]\n",
        "array_hasil = array_bagi * array_baru # Kali-kan array hasil dari langkah sebelumnya dengan array baru\n",
        "print(array_hasil)"
      ],
      "metadata": {
        "id": "9TOp6c8rEpz2",
        "outputId": "c5e9b451-df64-46bf-fc5b-83a7852e648b",
        "colab": {
          "base_uri": "https://localhost:8080/"
        }
      },
      "execution_count": null,
      "outputs": [
        {
          "output_type": "stream",
          "name": "stdout",
          "text": [
            "[-150.          430.           50.         1306.66666667  150.        ]\n"
          ]
        }
      ]
    },
    {
      "cell_type": "code",
      "source": [
        "index_tertinggi = np.argmax(array_hasil) # Cari index ke-berapa nilai tertinggi dari array hasil\n",
        "index_terendah = np.argmin(array_hasil) # Cari index ke-berapa nilai terendah dari array hasil"
      ],
      "metadata": {
        "id": "FvoXYzymFNPu"
      },
      "execution_count": null,
      "outputs": []
    },
    {
      "cell_type": "code",
      "source": [
        "print(\"Nilai tertinggi:\", array_hasil[index_tertinggi], \"ditemukan pada index ke-\", index_tertinggi) # Cetak nilai tertinggi beserta indexnya\n",
        "print(\"Nilai terendah:\", array_hasil[index_terendah], \"ditemukan pada index ke-\", index_terendah) # Cetak nilai terendah beserta indexnya"
      ],
      "metadata": {
        "id": "SFk3iLt7Fk8x",
        "outputId": "34680de3-3817-44a9-d184-1c41d27f9bc7",
        "colab": {
          "base_uri": "https://localhost:8080/"
        }
      },
      "execution_count": null,
      "outputs": [
        {
          "output_type": "stream",
          "name": "stdout",
          "text": [
            "Nilai tertinggi: 1306.6666666666665 ditemukan pada index ke- 3\n",
            "Nilai terendah: -150.0 ditemukan pada index ke- 0\n"
          ]
        }
      ]
    },
    {
      "cell_type": "markdown",
      "metadata": {
        "id": "wTkMvK_EE0jy"
      },
      "source": [
        "Jadi, dari hasil operasi numpy di atas, dapat disimpulkan bahwa dari 5 bilangan array secara acak yang dimulai dari angka 1 yakni (1,3,5,7,9) akan dilakukan perintah berikut ini yaitu kali-kan array dengan 10, bagi-kan array dengan 3, kali-kan array dengan yang baru, dan mencari pada index ke-berapa nilai tertinggi dan terendah dari array. Sehingga hasil yang didapatkan dari perintah tersebut akan diuraikan sebagai berikut, pertama kali-kan array dengan 10 menghasilkan nilai (10, 30, 50, 70, 90), kedua bagi-kan array dengan 3 menghasilkan nilai (3.33333333, 10, 16.66666667, 23.33333333, 30), ketiga kali-kan array dengan yang baru menghasilkan nilai (-150, 430, 50, 1306.66666667, 150), dan keempat mencari pada index ke-berapa nilai tertinggi dan terendah dari array menghasilkan nilai tertinggi 1306.66666667 ditemukan pada index ke-3 serta nilai terendah -150 ditemukan pada index ke-0."
      ]
    },
    {
      "cell_type": "markdown",
      "metadata": {
        "id": "LLIlxgN3Pmwj"
      },
      "source": [
        "# Terimakasih, salam dari ... Medan"
      ]
    }
  ]
}